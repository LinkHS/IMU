{
 "cells": [
  {
   "cell_type": "markdown",
   "metadata": {},
   "source": [
    "## Python环境\n",
    "> 如果需要加载ros-python环境，请将`%%script true`注释。"
   ]
  },
  {
   "cell_type": "code",
   "execution_count": 1,
   "metadata": {},
   "outputs": [],
   "source": [
    "%%script true\n",
    "import sys\n",
    "sys.path.insert(0, '/opt/ros/noetic/lib/python3/dist-packages')\n"
   ]
  },
  {
   "cell_type": "code",
   "execution_count": 2,
   "metadata": {},
   "outputs": [],
   "source": [
    "from tf import transformations as tf\n",
    "import numpy as np\n",
    "\n",
    "np.set_printoptions(4)"
   ]
  },
  {
   "cell_type": "markdown",
   "metadata": {},
   "source": [
    "## 旋转矩阵和欧拉角\n",
    "### 旋转向量和旋转矩阵"
   ]
  },
  {
   "cell_type": "code",
   "execution_count": 3,
   "metadata": {},
   "outputs": [
    {
     "name": "stdout",
     "output_type": "stream",
     "text": [
      "[-1.4111  0.1389 -0.9947  0.    ]\n",
      "[-1.4111  0.1389 -0.9947  0.    ]\n",
      "[-1.4111  0.1389 -0.9947  0.    ]\n"
     ]
    }
   ],
   "source": [
    "alpha, beta, gamma = 0.123, -1.234, 2.345\n",
    "xaxis, yaxis, zaxis =  (1, 0, 0), (0, 1, 0), (0, 0, 1)\n",
    "\n",
    "Rx = tf.rotation_matrix(alpha, xaxis) # 旋转向量：围绕x轴旋转alpha度\n",
    "Ry = tf.rotation_matrix(beta, yaxis) \n",
    "Rz = tf.rotation_matrix(gamma, zaxis)\n",
    "R = tf.concatenate_matrices(Rx, Ry, Rz) # Rx @ Ry @ Rz\n",
    "\n",
    "p = (1, 1, 1, 0) # 最后的0是齐次坐标\n",
    "\n",
    "print(R @ p)\n",
    "print(Rx @ Ry @ Rz @ p)\n",
    "print(Rx @ (Ry @ (Rz @ p))) # 先绕z，然后y，最后x"
   ]
  },
  {
   "cell_type": "markdown",
   "metadata": {},
   "source": [
    "\n",
    "### 旋转矩阵转为欧拉角\n",
    "\n",
    "继续使用上面的`R`："
   ]
  },
  {
   "cell_type": "code",
   "execution_count": 4,
   "metadata": {},
   "outputs": [
    {
     "data": {
      "text/plain": [
       "(array([ 0.123, -1.234,  2.345]), array([ 0.123, -1.234,  2.345]))"
      ]
     },
     "execution_count": 4,
     "metadata": {},
     "output_type": "execute_result"
    }
   ],
   "source": [
    "# 旋转矩阵 => 欧拉角\n",
    "euler = tf.euler_from_matrix(R, 'rxyz')\n",
    "\n",
    "np.array([alpha, beta, gamma]), np.array(euler)"
   ]
  },
  {
   "cell_type": "markdown",
   "metadata": {},
   "source": [
    "### 旋转矩阵转为欧拉角"
   ]
  },
  {
   "cell_type": "code",
   "execution_count": 5,
   "metadata": {},
   "outputs": [
    {
     "data": {
      "text/plain": [
       "True"
      ]
     },
     "execution_count": 5,
     "metadata": {},
     "output_type": "execute_result"
    }
   ],
   "source": [
    "Re = tf.euler_matrix(alpha, beta, gamma, 'rxyz')\n",
    "\n",
    "tf.is_same_transform(R, Re)"
   ]
  },
  {
   "cell_type": "code",
   "execution_count": 6,
   "metadata": {},
   "outputs": [
    {
     "data": {
      "text/plain": [
       "True"
      ]
     },
     "execution_count": 6,
     "metadata": {},
     "output_type": "execute_result"
    }
   ],
   "source": [
    "al, be, ga = tf.euler_from_matrix(Re, 'rxyz')\n",
    "\n",
    "np.allclose([al, be, ga], [alpha, beta, gamma])"
   ]
  },
  {
   "cell_type": "markdown",
   "metadata": {},
   "source": [
    "## 四元数\n",
    "\n",
    "假设某个旋转是绕单位向量$\\boldsymbol{n} = [nx, ny, nz]^T $进行了角度为$θ$的旋转，那么这个旋转的四元数形式为：\n",
    "\n",
    "$\\boldsymbol{q}=\\left[\\cos \\frac{\\theta}{2}, n_{x} \\sin \\frac{\\theta}{2}, n_{y} \\sin \\frac{\\theta}{2}, n_{z} \\sin \\frac{\\theta}{2}\\right]^{T}$\n",
    "\n",
    "在tf python包中，Quaternions $ix+jy+kz+w$ are represented as `[x, y, z, w]`. \n",
    "\n",
    "**注意实部`w`在最后，而四元数表示一般将`w`放最前。**\n",
    "\n",
    "例如绕着x轴$[1, 0, 0]$旋转60度的四元数表示："
   ]
  },
  {
   "cell_type": "code",
   "execution_count": 7,
   "metadata": {},
   "outputs": [
    {
     "data": {
      "text/plain": [
       "array([0.5  , 0.   , 0.   , 0.866])"
      ]
     },
     "execution_count": 7,
     "metadata": {},
     "output_type": "execute_result"
    }
   ],
   "source": [
    "angle = np.deg2rad(60) # 60 / 180 * np.pi\n",
    "axis = (1, 0, 0)\n",
    "q = tf.quaternion_about_axis(angle, axis)\n",
    "\n",
    "q"
   ]
  },
  {
   "cell_type": "markdown",
   "metadata": {},
   "source": [
    "通过四元数可以算出旋转轴和旋转角度：\n",
    "\n",
    "$$\n",
    "\\left\\{\\begin{array}{l}\n",
    "\\theta=2 \\arccos q_{0} \\\\\n",
    "{\\left[n_{x}, n_{y}, n_{z}\\right]^{T}=\\left[q_{1}, q_{2}, q_{3}\\right]^{T} / \\sin \\frac{\\theta}{2}}\n",
    "\\end{array}\\right.\n",
    "$$\n",
    "\n",
    "实际使用时需要考虑角度和弧度的转换：\n",
    "\n",
    "$\\theta = 2 \\arccos(w) \\text{.to\\_degree()} $\n"
   ]
  },
  {
   "cell_type": "code",
   "execution_count": 8,
   "metadata": {},
   "outputs": [
    {
     "data": {
      "text/plain": [
       "59.999999999999986"
      ]
     },
     "execution_count": 8,
     "metadata": {},
     "output_type": "execute_result"
    }
   ],
   "source": [
    "# np.math.acos(w) * 180 / np.pi * 2\n",
    "np.rad2deg(np.math.acos(q[3]) * 2)"
   ]
  },
  {
   "cell_type": "markdown",
   "metadata": {},
   "source": [
    "当没有$\\theta = 0$时（没有旋转），四元数的虚部都为0，实部为1："
   ]
  },
  {
   "cell_type": "code",
   "execution_count": 9,
   "metadata": {},
   "outputs": [
    {
     "data": {
      "text/plain": [
       "(array([0., 0., 0., 1.]), array([0., 0., 0., 1.]), array([0., 0., 0., 1.]))"
      ]
     },
     "execution_count": 9,
     "metadata": {},
     "output_type": "execute_result"
    }
   ],
   "source": [
    "q1 = tf.quaternion_about_axis(np.deg2rad(0), [1, 0, 0])\n",
    "q2 = tf.quaternion_about_axis(np.deg2rad(0), [2, 0, 0])\n",
    "q3 = tf.quaternion_about_axis(np.deg2rad(0), [0, 1, 0])\n",
    "\n",
    "q1, q2, q3"
   ]
  },
  {
   "cell_type": "markdown",
   "metadata": {},
   "source": [
    "### 多次旋转的四元数表示\n",
    "\n",
    "使用旋转矩阵进行多次旋转时，只要将多个旋转矩阵按顺序进行相乘即可："
   ]
  },
  {
   "cell_type": "code",
   "execution_count": 10,
   "metadata": {},
   "outputs": [],
   "source": [
    "alpha, beta, gamma = 0.123, -1.234, 2.345\n",
    "xaxis, yaxis, zaxis = (1, 0, 0), (0, 1, 0), (0, 0, 1)\n",
    "\n",
    "Rx = tf.rotation_matrix(alpha, xaxis) # 旋转向量：围绕x轴旋转alpha度\n",
    "Ry = tf.rotation_matrix(beta, yaxis) \n",
    "Rz = tf.rotation_matrix(gamma, zaxis)\n",
    "R = tf.concatenate_matrices(Rx, Ry, Rz) # Rx @ Ry @ Rz"
   ]
  },
  {
   "cell_type": "markdown",
   "metadata": {},
   "source": [
    "使用四元数进行多次旋转时，同样将多个四元数按顺序进行相乘："
   ]
  },
  {
   "cell_type": "code",
   "execution_count": 11,
   "metadata": {},
   "outputs": [
    {
     "data": {
      "text/plain": [
       "True"
      ]
     },
     "execution_count": 11,
     "metadata": {},
     "output_type": "execute_result"
    }
   ],
   "source": [
    "qx = tf.quaternion_about_axis(alpha, xaxis)\n",
    "qy = tf.quaternion_about_axis(beta, yaxis)\n",
    "qz = tf.quaternion_about_axis(gamma, zaxis)\n",
    "\n",
    "q = tf.quaternion_multiply(qx, qy)\n",
    "q = tf.quaternion_multiply(q, qz)\n",
    "Rq = tf.quaternion_matrix(q)\n",
    "\n",
    "tf.is_same_transform(R, Rq)"
   ]
  },
  {
   "cell_type": "markdown",
   "metadata": {},
   "source": [
    "### 四元数对三维点旋转\n",
    "\n",
    "四元数可以对三维空间中的点进行旋转。\n",
    "\n",
    "假设一个空间三维点$\\boldsymbol{p}=[x, y, z] \\in \\mathbb{R}^{3}$，一个由轴角$\\boldsymbol{n}, θ$指定的旋转。\n",
    "\n",
    "三维点$\\boldsymbol{p}$经过旋转之后变成为$\\boldsymbol{p′}$。如果使用矩阵描述，那么有$\\boldsymbol{p′} = \\boldsymbol{Rp}$。\n",
    "\n",
    "用四元数描述旋转：\n",
    "\n",
    "$$\\boldsymbol{p}^{\\prime}=\\boldsymbol{q} \\boldsymbol{p q}^{-1}$$\n",
    "\n",
    "其中\n",
    "$\\boldsymbol{q}=\\left[\\cos \\frac{\\theta}{2}, \\boldsymbol{n} \\sin \\frac{\\theta}{2}\\right]$\n",
    "\n",
    "而$\\boldsymbol{p}$需要转成四元数表示：\n",
    "\n",
    "$\\boldsymbol{p}=[0, x, y, z]=[0, \\boldsymbol{v}]$\n",
    "\n",
    "\n",
    "先求旋转矩阵对一个点旋转的结果："
   ]
  },
  {
   "cell_type": "code",
   "execution_count": 12,
   "metadata": {},
   "outputs": [
    {
     "data": {
      "text/plain": [
       "array([ 4.    , -1.5981,  3.2321,  0.    ])"
      ]
     },
     "execution_count": 12,
     "metadata": {},
     "output_type": "execute_result"
    }
   ],
   "source": [
    "# 三维点p=(4,2,3)\n",
    "p = [4, 2, 3, 0]\n",
    "\n",
    "# 旋转向量\n",
    "angle = np.deg2rad(60)\n",
    "axis = (1, 0, 0)\n",
    "\n",
    "# 旋转矩阵\n",
    "R = tf.rotation_matrix(angle, axis)\n",
    "\n",
    "pt = R @ p\n",
    "\n",
    "pt"
   ]
  },
  {
   "cell_type": "markdown",
   "metadata": {},
   "source": [
    "再求四元数对同一个点旋转的结果："
   ]
  },
  {
   "cell_type": "code",
   "execution_count": 13,
   "metadata": {},
   "outputs": [
    {
     "data": {
      "text/plain": [
       "array([ 4.    , -1.5981,  3.2321,  0.    ])"
      ]
     },
     "execution_count": 13,
     "metadata": {},
     "output_type": "execute_result"
    }
   ],
   "source": [
    "q = tf.quaternion_about_axis(angle, axis)\n",
    "pq = tf.quaternion_multiply(q, p)\n",
    "pq = tf.quaternion_multiply(pq, tf.quaternion_inverse(q))\n",
    "\n",
    "pq"
   ]
  }
 ],
 "metadata": {
  "interpreter": {
   "hash": "31f2aee4e71d21fbe5cf8b01ff0e069b9275f58929596ceb00d14d90e3e16cd6"
  },
  "kernelspec": {
   "display_name": "Python 3.8.5 64-bit",
   "name": "python3"
  },
  "language_info": {
   "name": "python",
   "version": ""
  },
  "orig_nbformat": 4
 },
 "nbformat": 4,
 "nbformat_minor": 2
}