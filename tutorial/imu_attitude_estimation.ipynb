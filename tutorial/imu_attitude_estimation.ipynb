{
 "cells": [
  {
   "cell_type": "markdown",
   "metadata": {},
   "source": [
    "- $a_x, a_y, a_z$ - Raw acceleration measurements along each axis ($m/s^2$).\n",
    "- $g_x, g_y, g_z$ - Raw gyroscope measurements about each axis ($deg/s)$, usually referred to as $p$, $q$, and $r$ respectively.\n",
    "- $\\phi$, $\\theta$ – Roll angle (rotation about X axis in degrees) and pitch angle (rotation about Y axis in degrees).\n",
    "- $\\hat{\\phi}$ – Indicates an estimate of the roll angle.\n",
    "\n",
    "\n",
    "body to world:\n",
    "$$\n",
    "\\left(\\begin{array}{l}\n",
    "\\dot{\\phi} \\\\\n",
    "\\dot{\\theta} \\\\\n",
    "\\dot{\\psi}\n",
    "\\end{array}\\right)=\\left(\\begin{array}{ccc}\n",
    "1 & \\sin \\phi \\tan \\theta & \\cos \\phi \\tan \\theta \\\\\n",
    "0 & \\cos \\phi & -\\sin \\phi \\\\\n",
    "0 & \\sin \\phi \\sec \\theta & \\cos \\phi \\sec \\theta\n",
    "\\end{array}\\right)\\left(\\begin{array}{l}\n",
    "p \\\\\n",
    "q \\\\\n",
    "r\n",
    "\\end{array}\\right)\n",
    "$$"
   ]
  },
  {
   "cell_type": "markdown",
   "metadata": {},
   "source": [
    "## Complimentary Filter\n",
    "互补滤波器的工作原理是将理想的加速度计低频特性与理想的陀螺仪高频特性相结合。\n",
    "\n",
    "The method is as follows:\n",
    "1. Choose a constant $\\alpha$, such that $0 < \\alpha < 1$. The larger $\\alpha$, the more the accelerometer measurements are ‘trusted’. As $\\alpha$ goes to zero, we base our estimate mainly on the gyroscope measurements. A good starting point is $\\alpha = 0.1$.\n",
    "\n",
    "2. Initialise state estimate, e.g. $\\hat{\\phi}_{t=0}=0$.\n",
    "\n",
    "3. For each timestep (sampling time $\\Delta t$):\n",
    "    - Retrieve raw accelerometer and gyroscope readings from IMU.\n",
    "    - Calculate estimate of angle from accelerometer data ($\\hat{\\phi}_{Acc}$) using equation from Section 2.2.\n",
    "    - Combine this estimate with the integral of the transformed gyroscope data (see Section 2.3): $\\hat{\\phi}_{t+1}=(1-\\alpha) \\cdot (\\hat{\\phi}_{t}+ \\dot{\\phi}_G \\cdot \\Delta t)+\\alpha \\cdot \\hat{\\phi}_{Acc}$"
   ]
  },
  {
   "cell_type": "markdown",
   "metadata": {},
   "source": []
  },
  {
   "cell_type": "code",
   "execution_count": 63,
   "metadata": {},
   "outputs": [],
   "source": [
    "import sys\n",
    "sys.path.insert(0, '/opt/ros/noetic/lib/python3/dist-packages')\n",
    "sys.path.insert(0, '..')"
   ]
  },
  {
   "cell_type": "code",
   "execution_count": 64,
   "metadata": {},
   "outputs": [],
   "source": [
    "import rospy\n",
    "import numpy as np\n",
    "import visualiser\n",
    "import matplotlib.pyplot as plt\n",
    "\n",
    "from sensor_msgs.msg import Imu\n",
    "from matplotlib.animation import FuncAnimation\n",
    "from visualiser import IMULinearAclVisualiser, IMUAngularVelocityVisualiser, IMUVisualiser, IMUAccelerationVisualiser\n",
    "from tf.transformations import quaternion_multiply, quaternion_inverse"
   ]
  },
  {
   "cell_type": "code",
   "execution_count": 66,
   "metadata": {},
   "outputs": [],
   "source": [
    "class IMURos:\n",
    "    def __init__(self) -> None:\n",
    "        self.functions = []\n",
    "        rospy.init_node('listener', anonymous=True)\n",
    "        rospy.Subscriber(\"imu\", Imu, self.imu_callback)\n",
    "\n",
    "    def register(self, func):\n",
    "        self.functions.append(func)\n",
    "\n",
    "    def imu_callback(self, imudata):\n",
    "        q = imudata.orientation\n",
    "        w = imudata.angular_velocity\n",
    "        a = imudata.linear_acceleration\n",
    "\n",
    "        self._q = (q.x, q.y, q.z, q.w)\n",
    "        self._w = (w.x, w.y, w.z)\n",
    "        self._a = (a.x, a.y, a.z)\n",
    "        for fun in self.functions:\n",
    "            fun(self._q, self._w, self._a)"
   ]
  },
  {
   "cell_type": "code",
   "execution_count": 70,
   "metadata": {},
   "outputs": [
    {
     "data": {
      "image/png": "[encoded data removed]",
      "text/plain": [
       "<Figure size 432x288 with 1 Axes>"
      ]
     },
     "metadata": {
      "needs_background": "light"
     },
     "output_type": "display_data"
    }
   ],
   "source": [
    "imu = IMURos()\n",
    "\n",
    "acc_vis = IMUAccelerationVisualiser('Acceleration', y_lim=(-20, 20))\n",
    "imu.register(acc_vis.imu_callback)"
   ]
  },
  {
   "cell_type": "code",
   "execution_count": 72,
   "metadata": {},
   "outputs": [],
   "source": [
    "plt.show()"
   ]
  },
  {
   "cell_type": "code",
   "execution_count": 40,
   "metadata": {},
   "outputs": [
    {
     "data": {
      "text/plain": [
       "[<matplotlib.lines.Line2D at 0x7f401a9cd4f0>]"
      ]
     },
     "execution_count": 40,
     "metadata": {},
     "output_type": "execute_result"
    },
    {
     "data": {
      "image/png": "[encoded data removed]",
      "text/plain": [
       "<Figure size 432x288 with 1 Axes>"
      ]
     },
     "metadata": {
      "needs_background": "light"
     },
     "output_type": "display_data"
    }
   ],
   "source": [
    "\n",
    "y = np.sin(np.linspace(0, 100*np.pi, 200)) + np.sin(np.linspace(0, 50*np.pi, 200))\n",
    "freq = np.fft.rfftfreq(y.size, 1/200)\n",
    "ap = np.fft.rfft(y)\n",
    "plt.plot(freq, abs(ap))\n"
   ]
  },
  {
   "cell_type": "code",
   "execution_count": 73,
   "metadata": {},
   "outputs": [
    {
     "ename": "AttributeError",
     "evalue": "'numpy.ndarray' object has no attribute 'roll'",
     "output_type": "error",
     "traceback": [
      "\u001b[0;31m---------------------------------------------------------------------------\u001b[0m",
      "\u001b[0;31mAttributeError\u001b[0m                            Traceback (most recent call last)",
      "\u001b[0;32m<ipython-input-73-9a3dd74e4013>\u001b[0m in \u001b[0;36m<module>\u001b[0;34m\u001b[0m\n\u001b[1;32m      1\u001b[0m \u001b[0ma\u001b[0m \u001b[0;34m=\u001b[0m \u001b[0mnp\u001b[0m\u001b[0;34m.\u001b[0m\u001b[0marray\u001b[0m\u001b[0;34m(\u001b[0m\u001b[0;34m[\u001b[0m\u001b[0;36m1\u001b[0m\u001b[0;34m,\u001b[0m\u001b[0;36m2\u001b[0m\u001b[0;34m,\u001b[0m\u001b[0;36m3\u001b[0m\u001b[0;34m]\u001b[0m\u001b[0;34m)\u001b[0m\u001b[0;34m\u001b[0m\u001b[0;34m\u001b[0m\u001b[0m\n\u001b[0;32m----> 2\u001b[0;31m \u001b[0ma\u001b[0m\u001b[0;34m.\u001b[0m\u001b[0mroll\u001b[0m\u001b[0;34m(\u001b[0m\u001b[0;36m1\u001b[0m\u001b[0;34m)\u001b[0m\u001b[0;34m\u001b[0m\u001b[0;34m\u001b[0m\u001b[0m\n\u001b[0m",
      "\u001b[0;31mAttributeError\u001b[0m: 'numpy.ndarray' object has no attribute 'roll'"
     ]
    }
   ],
   "source": [
    "a = np.array([1,2,3])\n",
    "np.roll(a, 1)"
   ]
  },
  {
   "cell_type": "markdown",
   "metadata": {},
   "source": []
  }
 ],
 "metadata": {
  "interpreter": {
   "hash": "31f2aee4e71d21fbe5cf8b01ff0e069b9275f58929596ceb00d14d90e3e16cd6"
  },
  "kernelspec": {
   "display_name": "Python 3.8.5 64-bit",
   "name": "python3"
  },
  "language_info": {
   "codemirror_mode": {
    "name": "ipython",
    "version": 3
   },
   "file_extension": ".py",
   "mimetype": "text/x-python",
   "name": "python",
   "nbconvert_exporter": "python",
   "pygments_lexer": "ipython3",
   "version": "3.8.5"
  },
  "orig_nbformat": 4
 },
 "nbformat": 4,
 "nbformat_minor": 2
}