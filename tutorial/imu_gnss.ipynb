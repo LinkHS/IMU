{
 "cells": [
  {
   "cell_type": "code",
   "execution_count": 2,
   "metadata": {},
   "outputs": [],
   "source": [
    "import sys\n",
    "sys.path.insert(0, '/home/algo/temp/ukfm/python')\n"
   ]
  },
  {
   "cell_type": "code",
   "execution_count": 3,
   "metadata": {},
   "outputs": [],
   "source": [
    "from scipy.linalg import block_diag\n",
    "import ukfm\n",
    "import numpy as np\n",
    "import matplotlib\n",
    "# ukfm.set_matplotlib_config()\n"
   ]
  },
  {
   "cell_type": "code",
   "execution_count": 4,
   "metadata": {},
   "outputs": [],
   "source": [
    "MODEL = ukfm.IMUGNSS\n",
    "\n",
    "# observation frequency (Hz)\n",
    "GNSS_freq = 1\n",
    "# load data\n",
    "omegas, ys, one_hot_ys, t = MODEL.load(GNSS_freq)\n",
    "N = t.shape[0]\n",
    "# IMU noise standard deviation (noise is isotropic)\n",
    "imu_std = np.array([0.01,     # gyro (rad/s)\n",
    "                    0.05,     # accelerometer (m/s^2)\n",
    "                    0.000001,  # gyro bias (rad/s^2)\n",
    "                    0.0001])  # accelerometer bias (m/s^3)\n",
    "# GNSS noise standard deviation (m)\n",
    "GNSS_std = 0.05\n"
   ]
  },
  {
   "cell_type": "markdown",
   "metadata": {},
   "source": [
    "The state and the input contain the following variables:\n",
    "\n",
    "```python\n",
    "states[n].Rot     # 3d orientation (matrix)\n",
    "states[n].v       # 3d velocity\n",
    "states[n].p       # 3d position\n",
    "states[n].b_gyro  # gyro bias\n",
    "states[n].b_acc   # accelerometer bias\n",
    "omegas[n].gyro    # vehicle angular velocities\n",
    "omegas[n].acc     # vehicle specific forces\n",
    "```"
   ]
  },
  {
   "cell_type": "code",
   "execution_count": 5,
   "metadata": {},
   "outputs": [],
   "source": [
    "# propagation noise covariance matrix\n",
    "Q = block_diag(imu_std[0]**2*np.eye(3), imu_std[1]**2*np.eye(3),\n",
    "               imu_std[2]**2*np.eye(3), imu_std[3]**2*np.eye(3))\n",
    "# measurement noise covariance matrix\n",
    "R = GNSS_std**2 * np.eye(3)\n"
   ]
  },
  {
   "cell_type": "code",
   "execution_count": 6,
   "metadata": {},
   "outputs": [],
   "source": [
    "# sigma point parameters\n",
    "alpha = np.array([1e-3, 1e-3, 1e-3, 1e-3, 1e-3])\n",
    "# for propagation we need the all state\n",
    "red_idxs = np.arange(15)  # indices corresponding to the full state in P\n",
    "# for update we need only the state corresponding to the position\n",
    "up_idxs = np.array([6, 7, 8])"
   ]
  },
  {
   "cell_type": "code",
   "execution_count": 7,
   "metadata": {},
   "outputs": [],
   "source": [
    "# initial uncertainty matrix\n",
    "P0 = block_diag(0.01*np.eye(3), 1*np.eye(3), 1*np.eye(3),\n",
    "                0.001*np.eye(3), 0.001*np.eye(3))\n",
    "# initial state\n",
    "state0 = MODEL.STATE(\n",
    "    Rot=np.eye(3),\n",
    "    v=np.zeros(3),\n",
    "    p=np.zeros(3),\n",
    "    b_gyro=np.zeros(3),\n",
    "    b_acc=np.zeros(3))\n"
   ]
  },
  {
   "cell_type": "code",
   "execution_count": 8,
   "metadata": {},
   "outputs": [],
   "source": [
    "# create the UKF\n",
    "ukf = ukfm.JUKF(state0=state0, P0=P0, f=MODEL.f, h=MODEL.h, Q=Q[:6, :6],\n",
    "                phi=MODEL.phi, alpha=alpha, red_phi=MODEL.phi,\n",
    "                red_phi_inv=MODEL.phi_inv, red_idxs=red_idxs,\n",
    "                up_phi=MODEL.up_phi, up_idxs=up_idxs)\n",
    "# set variables for recording estimates along the full trajectory\n",
    "ukf_states = [state0]\n",
    "ukf_Ps = np.zeros((N, 15, 15))\n",
    "ukf_Ps[0] = P0\n",
    "# the part of the Jacobian that is already known.\n",
    "G_const = np.zeros((15, 6))\n",
    "G_const[9:] = np.eye(6)\n"
   ]
  },
  {
   "cell_type": "code",
   "execution_count": 10,
   "metadata": {},
   "outputs": [],
   "source": [
    "# measurement iteration number\n",
    "k = 1\n",
    "for n in range(1, 2000):\n",
    "    # propagation\n",
    "    dt = t[n]-t[n-1]\n",
    "    ukf.state_propagation(omegas[n-1], dt)\n",
    "    ukf.F_num(omegas[n-1], dt)\n",
    "    # we assert the reduced noise covariance for computing Jacobian.\n",
    "    ukf.Q = Q[:6, :6]\n",
    "    ukf.G_num(omegas[n-1], dt)\n",
    "    # concatenate Jacobian\n",
    "    ukf.G = np.hstack((ukf.G, G_const*dt))\n",
    "    # we assert the full noise covariance for uncertainty propagation.\n",
    "    ukf.Q = Q\n",
    "    ukf.cov_propagation()\n",
    "    # update only if a measurement is received\n",
    "    if one_hot_ys[n] == 1:\n",
    "        ukf.update(ys[k], R)\n",
    "        k = k + 1\n",
    "    # save estimates\n",
    "    ukf_states.append(ukf.state)\n",
    "    ukf_Ps[n] = ukf.P\n"
   ]
  },
  {
   "cell_type": "code",
   "execution_count": 11,
   "metadata": {},
   "outputs": [
    {
     "data": {
      "image/png": "[encoded data removed]",
      "text/plain": [
       "<Figure size 648x432 with 1 Axes>"
      ]
     },
     "metadata": {
      "needs_background": "light"
     },
     "output_type": "display_data"
    }
   ],
   "source": [
    "MODEL.plot_results(ukf_states, ys)"
   ]
  }
 ],
 "metadata": {
  "interpreter": {
   "hash": "31f2aee4e71d21fbe5cf8b01ff0e069b9275f58929596ceb00d14d90e3e16cd6"
  },
  "kernelspec": {
   "display_name": "Python 3.8.5 64-bit",
   "name": "python3"
  },
  "language_info": {
   "codemirror_mode": {
    "name": "ipython",
    "version": 3
   },
   "file_extension": ".py",
   "mimetype": "text/x-python",
   "name": "python",
   "nbconvert_exporter": "python",
   "pygments_lexer": "ipython3",
   "version": "3.8.5"
  },
  "orig_nbformat": 4
 },
 "nbformat": 4,
 "nbformat_minor": 2
}