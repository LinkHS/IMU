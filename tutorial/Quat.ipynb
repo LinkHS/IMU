{
 "cells": [
  {
   "cell_type": "code",
   "execution_count": 1,
   "metadata": {},
   "outputs": [],
   "source": [
    "import matplotlib.pyplot as plt\n",
    "import numpy as np\n",
    "from numpy.linalg import norm"
   ]
  },
  {
   "cell_type": "markdown",
   "metadata": {},
   "source": [
    "### 归一化数组、求解两个向量之间的夹角"
   ]
  },
  {
   "cell_type": "code",
   "execution_count": 2,
   "metadata": {},
   "outputs": [],
   "source": [
    "def normalize(v):\n",
    "    \n",
    "    # 判断为一维还是二维数组\n",
    "    if np.array(v).ndim == 1:\n",
    "        vectorFlag = True\n",
    "    else:\n",
    "        vectorFlag = False\n",
    "        \n",
    "    # 转为二维数组方便操作\n",
    "    v = np.double(np.atleast_2d(v)).copy()\n",
    "    length = norm(v, axis=1)\n",
    "    v[length!=0] = (v[length!=0].T/length[length!=0]).T\n",
    "    if vectorFlag:\n",
    "        v = v.ravel()\n",
    "    return v\n",
    "\n",
    "def angle(v1,v2):\n",
    "    \n",
    "    v1 = np.array(v1)\n",
    "    v2 = np.array(v2)\n",
    "    \n",
    "    if v1.ndim < v2.ndim:\n",
    "        v1, v2 = v2, v1\n",
    "    n1 = normalize(v1)\n",
    "    n2 = normalize(v2)\n",
    "    if v2.ndim == 1:\n",
    "        angle = np.arccos(n1.dot(n2))\n",
    "    else:\n",
    "        angle = np.arccos(list(map(np.dot, n1, n2)))\n",
    "    return angle"
   ]
  },
  {
   "cell_type": "code",
   "execution_count": 6,
   "metadata": {},
   "outputs": [
    {
     "name": "stdout",
     "output_type": "stream",
     "text": [
      "[[1. 0. 0.]\n",
      " [0. 1. 0.]]\n",
      "90.0\n"
     ]
    }
   ],
   "source": [
    "# v1和v2夹角为90 deg\n",
    "v1 = [2, 0, 0]\n",
    "v2 = [0, 3, 0]\n",
    "print(normalize([v1,v2]))\n",
    "print(angle(v1,v2)/np.pi*180)"
   ]
  },
  {
   "cell_type": "markdown",
   "metadata": {},
   "source": [
    "### 四元数操作"
   ]
  },
  {
   "cell_type": "markdown",
   "metadata": {},
   "source": [
    "#### 四元数定义：\n",
    "\n",
    "$\\boldsymbol{q}=q_w+iq_x+jq_y+kq_z,\\ i^2=j^2=k^2=-1,ij=k,ji=-k,jk=i,ki=j$\n",
    "$\\boldsymbol{q}=[q_w,\\,q_x,\\,q_y,\\,q_z]=[q_w,\\boldsymbol{q_v}]=[\\cos(\\theta/2),\\,n_x\\sin(\\theta/2),\\,n_y\\sin(\\theta/2),\\,n_z\\sin(\\theta/2)]$\n",
    "\n",
    "可理解为某一向量绕着$[n_x,n_y,n_z]$绕旋转$\\theta$角度的旋转变换。$\\boldsymbol{q}$和$-\\boldsymbol{q}$表示同一旋转。\n",
    "\n",
    "单位四元数：四元数的模为1，即\n",
    "\n",
    "$q_w^2+q_x^2+q_y^2+q_z^2=1$"
   ]
  },
  {
   "cell_type": "code",
   "execution_count": 7,
   "metadata": {},
   "outputs": [],
   "source": [
    "# 求解表示从v1旋转到v2的最短路径的四元数\n",
    "def qrotate(v1,v2):\n",
    "    \n",
    "    n = normalize(np.cross(v1,v2))\n",
    "    n = np.atleast_2d(n)\n",
    "    \n",
    "    # 处理NaN\n",
    "    nanindex = np.isnan(n[:,0])\n",
    "    n[nanindex,:] = 0\n",
    "    \n",
    "    # 计算两个向量之间的夹角，求解向量部分（虚部）的四元数\n",
    "    angle12 = angle(v1,v2)\n",
    "    q = (n.T*np.sin(angle12/2.)).T\n",
    "    if q.shape[0]==1:\n",
    "        q = q.flatten()\n",
    "        \n",
    "    return q\n",
    "\n",
    "def unit_q(inData):\n",
    "    inData = np.atleast_2d(inData)\n",
    "    (m,n) = inData.shape\n",
    "    if (n!=3)&(n!=4):\n",
    "        raise ValueError('Quaternion must have 3 or 4 columns')\n",
    "    if n == 3:\n",
    "        qLength = 1-np.sum(inData**2,1)\n",
    "        numLimit = 1e-12\n",
    "        # 检查可能存在的由于计算机精度导致的问题\n",
    "        if np.min(qLength) < -numLimit:\n",
    "            raise ValueError('Quaternion is too long!')\n",
    "        else:\n",
    "            # 修复数值精度问题\n",
    "            qLength[qLength<0] = 0\n",
    "        outData = np.hstack((np.c_[np.sqrt(qLength)], inData))\n",
    "        \n",
    "    else:\n",
    "        outData = inData\n",
    "        \n",
    "    return outData"
   ]
  },
  {
   "cell_type": "code",
   "execution_count": 10,
   "metadata": {},
   "outputs": [
    {
     "name": "stdout",
     "output_type": "stream",
     "text": [
      "[0.         0.         0.70710678] [[0.70710678 0.         0.         0.70710678]]\n"
     ]
    }
   ],
   "source": [
    "#将v1旋转至v2：绕z轴旋转90 deg\n",
    "q1 = qrotate(v1,v2)\n",
    "q2 = unit_q(q1)\n",
    "print(q1, q2)"
   ]
  },
  {
   "cell_type": "markdown",
   "metadata": {},
   "source": [
    "### 四元素运算\n",
    "乘法：可等效为矩阵与向量想乘，一般不可逆。\n",
    "\n",
    "$\\boldsymbol{p}\\otimes\\vec{q}=[p_wq_w-\\boldsymbol{p_v}^T\\boldsymbol{q_v},\\,p_w\\boldsymbol{q_v}+q_w\\boldsymbol{p_v}+\\boldsymbol{p_v}\\times\\boldsymbol{q_v}]$\n",
    "\n",
    "\n",
    "共轭：虚部取为相反数\n",
    "\n",
    "$\\boldsymbol{q}^*=q_w-iq_x-jq_y-kq_z$\n",
    "\n",
    "逆：\n",
    "\n",
    "$\\boldsymbol{q}^{-1}=\\boldsymbol{q}^*/||\\boldsymbol{q}||^2$,\n",
    "\n",
    "$(\\boldsymbol{q_a}\\otimes\\boldsymbol{q_b})^{-1}=\\boldsymbol{q_b}^{-1}\\otimes\\boldsymbol{q_a}^{-1}$\n",
    "单位四元数的逆即为共轭。"
   ]
  },
  {
   "cell_type": "code",
   "execution_count": 13,
   "metadata": {},
   "outputs": [],
   "source": [
    "def q_mult(p,q):\n",
    "\n",
    "    flag3D = False\n",
    "    p = np.atleast_2d(p)\n",
    "    q = np.atleast_2d(q)\n",
    "    if p.shape[1]==3 & q.shape[1]==3:\n",
    "        flag3D = True\n",
    "\n",
    "    if len(p) != len(q):\n",
    "        assert (len(p)==1 or len(q)==1), \\\n",
    "            'Both arguments in the quaternion multiplication must have the same number of rows, unless one has only one row.'\n",
    "\n",
    "    p = unit_q(p).T\n",
    "    q = unit_q(q).T\n",
    "    \n",
    "    if np.prod(np.shape(p)) > np.prod(np.shape(q)):\n",
    "        r=np.zeros(np.shape(p))\n",
    "    else:\n",
    "        r=np.zeros(np.shape(q))\n",
    "\n",
    "    r[0] = p[0]*q[0] - p[1]*q[1] - p[2]*q[2] - p[3]*q[3]\n",
    "    r[1] = p[1]*q[0] + p[0]*q[1] + p[2]*q[3] - p[3]*q[2]\n",
    "    r[2] = p[2]*q[0] + p[0]*q[2] + p[3]*q[1] - p[1]*q[3]\n",
    "    r[3] = p[3]*q[0] + p[0]*q[3] + p[1]*q[2] - p[2]*q[1]\n",
    "\n",
    "    if flag3D:\n",
    "        # 使得相乘后的四元数的q_w大于0\n",
    "        r[:,r[0]<0] = -r[:,r[0]<0]\n",
    "        r = r[1:]\n",
    "\n",
    "    r = r.T\n",
    "    return r\n",
    "\n",
    "def q_inv(q):\n",
    "    \n",
    "    q = np.atleast_2d(q)\n",
    "    if q.shape[1]==3:\n",
    "        return -q\n",
    "    else:\n",
    "        qLength = np.sum(q**2, 1)\n",
    "        qConj = q * np.r_[1, -1,-1,-1]\n",
    "        return (qConj.T / qLength).T\n"
   ]
  },
  {
   "cell_type": "code",
   "execution_count": 15,
   "metadata": {},
   "outputs": [
    {
     "name": "stdout",
     "output_type": "stream",
     "text": [
      "[[0.         0.70710678 0.70710678 0.        ]] [[ 0.70710678 -0.         -0.         -0.70710678]]\n"
     ]
    }
   ],
   "source": [
    "p = [0.70710678, 0., 0., 0.70710678]\n",
    "q = [0., 1., 0, 0]\n",
    "print(q_mult(p,q), q_inv(p))"
   ]
  },
  {
   "cell_type": "markdown",
   "metadata": {},
   "source": [
    "#### 四元素与欧拉角或旋转矩阵之间的转换\n",
    "欧拉角有多种定义，根据定义的欧拉角不同有不同的转换公式，此处考虑惯性导航坐标系中的“航向-俯仰-横滚”角。\n",
    "先绕Z轴旋转，再绕Y轴旋转，最后绕X旋转。\n",
    "注意有地方会写Z-X-Y的绕转顺序，这跟X-Y轴的定义有关，即机头沿着哪条轴。\n",
    "\n",
    "四元数到欧拉角：\n",
    "\n",
    "$R_{yx} = 2(q_x\\,q_y + q_w\\,q_z), $\n",
    "\n",
    "$R_{zx} = 2(q_x\\,q_z - q_w\\,q_y), $\n",
    "\n",
    "$R_{yz} = 2(q_y\\,q_z - q_w\\,q_x), $\n",
    "\n",
    "pitch = $\\arcsin{R_{yx}}$\n",
    "\n",
    "yaw = $-\\arcsin(R_{zx} / \\cos(\\mathrm{pitch}))$\n",
    "\n",
    "roll = $-\\arcsin(R_{yz} / \\cos(\\mathrm{pitch}))$\n",
    "\n",
    "四元数到旋转矩阵：\n",
    "\n",
    "$\\boldsymbol{R}=\\left[\\begin{array}{ccc}\n",
    "q_{w}^{2}+q_{x}^{2}-q_{y}^{2}-q_{z}^{2} & 2 q_{x} q_{y}+2 q_{w} q_{z} & 2 q_{x} q_{z}-2 q_{w} q_{y} \\\\\n",
    "2 q_{x} q_{y}-2 q_{w} q_{z} & 1-2 q_{x}^{2}-2 q_{z}^{2} & 2 q_{y} q_{z}+2 q_{w} q_{x} \\\\\n",
    "2 q_{x} q_{z}+2 q_{w} q_{y} & 2 q_{y} q_{z}-2 q_{w} q_{x} & q_{w}^{2}-q_{x}^{2}-q_{y}^{2}+q_{z}^{2}\n",
    "\\end{array}\\right]$\n",
    "\n",
    "旋转矩阵 ($\\boldsymbol{R}=\\{m_{ij}\\}) $到四元数：\n",
    "\n",
    "$q_{w}=\\frac{\\sqrt{\\operatorname{tr}(R)+1}}{2}, q_{x}=\\frac{m_{23}-m_{32}}{4 q_{w}}, q_{y}=\\frac{m_{31}-m_{13}}{4 q_{w}}, q_{z}=\\frac{m_{12}-m_{21}}{4 q_{w}}$"
   ]
  },
  {
   "cell_type": "code",
   "execution_count": 25,
   "metadata": {},
   "outputs": [],
   "source": [
    "def quat2seq(quats):\n",
    "    \n",
    "    quats = np.atleast_2d(quats)\n",
    "    \n",
    "    # 若四元数仅有虚数部分，使用归一化条件求解实数部分\n",
    "    if quats.shape[1] == 3:\n",
    "        quats = unit_q(quats)\n",
    "\n",
    "    R_zx = 2 * (quats[:,1]*quats[:,3] - quats[:,0]*quats[:,2])\n",
    "    R_yx = 2 * (quats[:,1]*quats[:,2] + quats[:,0]*quats[:,3])\n",
    "    R_zy = 2 * (quats[:,2]*quats[:,3] + quats[:,0]*quats[:,1])\n",
    "    \n",
    "    phi  = -np.arcsin(R_zx)\n",
    "    theta = np.arcsin(R_yx / np.cos(phi))\n",
    "    psi   = np.arcsin(R_zy / np.cos(phi))\n",
    "    \n",
    "    sequence = np.column_stack((theta, phi, psi))\n",
    "    \n",
    "    return np.rad2deg(sequence)\n",
    "\n",
    "def quat2rot(quat):\n",
    "\n",
    "    q = unit_q(quat).T\n",
    "        \n",
    "    R = np.zeros((9, q.shape[1]))\n",
    "    R[0] = q[0]**2 + q[1]**2 - q[2]**2 - q[3]**2\n",
    "    R[1] = 2*(q[1]*q[2] - q[0]*q[3])\n",
    "    R[2] = 2*(q[1]*q[3] + q[0]*q[2])\n",
    "    R[3] = 2*(q[1]*q[2] + q[0]*q[3])\n",
    "    R[4] = q[0]**2 - q[1]**2 + q[2]**2 - q[3]**2\n",
    "    R[5] = 2*(q[2]*q[3] - q[0]*q[1])\n",
    "    R[6] = 2*(q[1]*q[3] - q[0]*q[2])\n",
    "    R[7] = 2*(q[2]*q[3] + q[0]*q[1])\n",
    "    R[8] = q[0]**2 - q[1]**2 - q[2]**2 + q[3]**2\n",
    "    \n",
    "    if R.shape[1] == 1:\n",
    "        return np.reshape(R, (3,3))\n",
    "    else:\n",
    "        return R.T\n",
    "    \n",
    "    \n",
    "def rot2quat(rMat):\n",
    "    \n",
    "    if rMat.shape == (3,3) or rMat.shape == (9,):\n",
    "        rMat=np.atleast_2d(rMat.ravel()).T\n",
    "    else:\n",
    "        rMat = rMat.T\n",
    "    q = np.zeros((4, rMat.shape[1]))\n",
    "    \n",
    "    R11 = rMat[0]\n",
    "    R12 = rMat[1]\n",
    "    R13 = rMat[2]\n",
    "    R21 = rMat[3]\n",
    "    R22 = rMat[4]\n",
    "    R23 = rMat[5]\n",
    "    R31 = rMat[6]\n",
    "    R32 = rMat[7]\n",
    "    R33 = rMat[8]\n",
    "    \n",
    "    # Catch small numerical inaccuracies, but produce an error for larger problems\n",
    "    epsilon = 1e-10\n",
    "    if np.min(np.vstack((1+R11-R22-R33, 1-R11+R22-R33, 1-R11-R22+R33))) < -epsilon:\n",
    "        raise ValueError('Problems with defintion of rotation matrices')\n",
    "    \"\"\"\n",
    "    q[1] = 0.5 * np.copysign(np.sqrt(np.abs(1+R11-R22-R33)), R32-R23)\n",
    "    q[2] = 0.5 * np.copysign(np.sqrt(np.abs(1-R11+R22-R33)), R13-R31)\n",
    "    q[3] = 0.5 * np.copysign(np.sqrt(np.abs(1-R11-R22+R33)), R21-R12)\n",
    "    q[0] = np.sqrt(1-(q[1]**2+q[2]**2+q[3]**2))\n",
    "    \"\"\"\n",
    "    q[0] = np.sqrt(1+R11+R22+R33)/2.\n",
    "    q[1] = (R32-R23)/(4*q[0])\n",
    "    q[2] = (R13-R31)/(4*q[0])\n",
    "    q[3] = (R21-R12)/(4*q[0])\n",
    "    \n",
    "    return q.T"
   ]
  },
  {
   "cell_type": "code",
   "execution_count": 33,
   "metadata": {},
   "outputs": [
    {
     "name": "stdout",
     "output_type": "stream",
     "text": [
      "[[ 0.79056942  0.4330127  -0.4330127   0.        ]]\n",
      "[[-30.96375653 -43.20833915  69.94041655]]\n",
      "[[ 0.625     -0.375     -0.6846532]\n",
      " [-0.375      0.625     -0.6846532]\n",
      " [ 0.6846532  0.6846532  0.25     ]]\n",
      "[[ 0.79056942  0.4330127  -0.4330127   0.        ]]\n"
     ]
    }
   ],
   "source": [
    "p = unit_q([0.5*np.sin(np.pi/3), -0.5*np.sin(np.pi/3),0])\n",
    "seq = quat2seq(p)\n",
    "rot = quat2rot(p)\n",
    "p_ = rot2quat(rot)\n",
    "print(p)\n",
    "print(seq)\n",
    "print(rot)\n",
    "print(p_)"
   ]
  },
  {
   "cell_type": "markdown",
   "metadata": {},
   "source": [
    "#### 四元数表示旋转\n",
    "向量$\\boldsymbol{p}$在四元数$\\boldsymbol{q}$作用下转化为$\\boldsymbol{p'}$\n",
    "\n",
    "$\\boldsymbol{p'}=\\boldsymbol{q}\\otimes\\boldsymbol{p}\\otimes\\boldsymbol{q}^{-1}$"
   ]
  },
  {
   "cell_type": "code",
   "execution_count": 34,
   "metadata": {},
   "outputs": [],
   "source": [
    "def rotate_vector(vector, q):\n",
    "    vector = np.atleast_2d(vector)\n",
    "    qvector = np.hstack((np.zeros((vector.shape[0],1)), vector))\n",
    "    vRotated = q_mult(q, q_mult(qvector, q_inv(q)))\n",
    "    vRotated = vRotated[:,1:]\n",
    "\n",
    "    if min(vRotated.shape)==1:\n",
    "        vRotated = vRotated.ravel()\n",
    "\n",
    "    return vRotated"
   ]
  },
  {
   "cell_type": "code",
   "execution_count": 35,
   "metadata": {},
   "outputs": [
    {
     "data": {
      "text/plain": [
       "array([-1.,  0.,  0.])"
      ]
     },
     "execution_count": 35,
     "metadata": {},
     "output_type": "execute_result"
    }
   ],
   "source": [
    "# 将(1,0,0)绕z轴旋转180 deg\n",
    "v = [1,0,0]\n",
    "q = [0,0,0,1]\n",
    "rotate_vector(v,q)"
   ]
  },
  {
   "cell_type": "markdown",
   "metadata": {},
   "source": [
    "#### 四元数积分\n",
    "微分方程：\n",
    "\n",
    "$\\frac{\\mathrm{d} \\boldsymbol q}{\\mathrm{d} t}=\\frac{1}{2}\\boldsymbol q\\otimes [0,\\quad {\\boldsymbol\\omega}^T]^{T}$\n",
    "\n",
    "积分上述方程可得：\n",
    "\n",
    "$\\boldsymbol{q_{t_{i+1}}}=\\boldsymbol{q_{t_{i}}}\\otimes e^{\\frac{1}{2}[0,\\quad\\boldsymbol{\\omega}^T]^T\\Delta T}$\n",
    "\n",
    "泰勒展开后得到：\n",
    "\n",
    "$\\boldsymbol{q_{t_{i+1}}}=\\boldsymbol{q_{t_{i}}}\\otimes{\\boldsymbol{q_\\omega}}$\n",
    "其中\n",
    "$\\boldsymbol{q_\\omega}=\\left[\\cos \\left(\\frac{\\Delta \\phi (t_i)}{2}\\right),\\boldsymbol{n_{t_i}}\\sin \\left(\\frac{\\Delta \\phi (t_i)}{2}\\right)\\right] = \\left[\\cos \\left( \\frac{\\left| {\\boldsymbol \\omega ({t_i})} \\right|\\Delta t}{2} \\right),\\frac{\\boldsymbol \\omega (t_i)}{\\left| {\\boldsymbol \\omega (t_i)} \\right|}\\sin \\left( \\frac{\\left| {\\boldsymbol \\omega ({t_i})} \\right|\\Delta t}{2} \\right)\\right]$"
   ]
  },
  {
   "cell_type": "code",
   "execution_count": 37,
   "metadata": {},
   "outputs": [],
   "source": [
    "def calc_quat(omega, q0, dt, CStype):\n",
    "    \n",
    "    omega_2d = np.atleast_2d(omega).copy()\n",
    "    dt_1d = np.atleast_1d(dt).copy()\n",
    "    \n",
    "    # The following is (approximately) the quaternion-equivalent of the trapezoidal integration (cumtrapz)\n",
    "    if omega_2d.shape[1]>1:\n",
    "        omega_2d[:-1] = 0.5*(omega_2d[:-1] + omega_2d[1:])\n",
    "\n",
    "    omega_t = np.sqrt(np.sum(omega_2d**2, 1))\n",
    "    omega_nonZero = omega_t>0\n",
    "\n",
    "    # initialize the quaternion\n",
    "    q_delta = np.zeros(omega_2d.shape)\n",
    "    q_pos = np.zeros((len(omega_2d)+1,4))\n",
    "    q_pos[0,:] = unit_q(q0)\n",
    "    \n",
    "    # magnitude of position steps\n",
    "    dq_total = np.sin(omega_t[omega_nonZero]*dt_1d[omega_nonZero]/2)\n",
    "\n",
    "    q_delta[omega_nonZero,:] = omega_2d[omega_nonZero,:] * np.tile(dq_total/omega_t[omega_nonZero], (3,1)).T\n",
    "\n",
    "    for ii in range(len(omega_2d)):\n",
    "        q1 = unit_q(q_delta[ii,:])\n",
    "        q2 = q_pos[ii,:]\n",
    "        if CStype == 'sf':      # 相对于space-fixed坐标系       \n",
    "            qm = q_mult(q1,q2)\n",
    "        elif CStype == 'bf':    # 相对于body-fixed坐标系\n",
    "            qm = q_mult(q2,q1)\n",
    "        else:\n",
    "            print('Wrong coordinate system!')\n",
    "        q_pos[ii+1,:] = qm\n",
    "    return q_pos\n"
   ]
  },
  {
   "cell_type": "code",
   "execution_count": 41,
   "metadata": {},
   "outputs": [
    {
     "data": {
      "text/plain": [
       "array([[1.        , 0.        , 0.        , 0.        ],\n",
       "       [0.70710678, 0.70710678, 0.        , 0.        ]])"
      ]
     },
     "execution_count": 41,
     "metadata": {},
     "output_type": "execute_result"
    }
   ],
   "source": [
    "# x轴角速度为pi/2 rad/s\n",
    "q0 = [1,0,0,0]\n",
    "omega = [np.pi/2, 0, 0]\n",
    "calc_quat(omega, q0, 1, 'bf')"
   ]
  }
 ],
 "metadata": {
  "kernelspec": {
   "display_name": "Python 3",
   "language": "python",
   "name": "python3"
  },
  "language_info": {
   "codemirror_mode": {
    "name": "ipython",
    "version": 3
   },
   "file_extension": ".py",
   "mimetype": "text/x-python",
   "name": "python",
   "nbconvert_exporter": "python",
   "pygments_lexer": "ipython3",
   "version": "3.8.10"
  }
 },
 "nbformat": 4,
 "nbformat_minor": 4
}
